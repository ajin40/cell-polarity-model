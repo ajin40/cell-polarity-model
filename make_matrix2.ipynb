{
 "cells": [
  {
   "cell_type": "code",
   "execution_count": 1,
   "metadata": {},
   "outputs": [],
   "source": [
    "import cv2\n",
    "import os\n",
    "import numpy as np\n",
    "\n",
    "def start(home_dir, matrix_number):\n",
    "    os.chdir(home_dir)\n",
    "    paths = os.listdir(home_dir)\n",
    "    paths = sorted(paths)\n",
    "    v_counter = 0\n",
    "    h_counter = 0\n",
    "    temp = []\n",
    "    img = []\n",
    "    matrix = []\n",
    "    xzoom = 260\n",
    "    yzoom = 200\n",
    "    for simulation in paths:\n",
    "        if simulation.endswith('.png'):\n",
    "            tags = simulation.split('_')\n",
    "            temp = cv2.imread(simulation)\n",
    "            if h_counter == 0:\n",
    "                img = temp\n",
    "            else:\n",
    "                img = cv2.hconcat([img, temp])\n",
    "            h_counter +=1\n",
    "            if h_counter > 7:\n",
    "                h_counter = 0\n",
    "                if v_counter > 0:\n",
    "                    matrix = cv2.vconcat([matrix, img])\n",
    "                else:\n",
    "                    matrix = img\n",
    "                v_counter+=1\n",
    "        os.chdir(home_dir)\n",
    "    # cv2.imshow('image', matrix)\n",
    "    # cv2.waitKey(0)\n",
    "    cv2.imwrite(f'../replicate{matrix_number}_matrix.png', matrix)\n",
    "\n",
    "def lil_rename(home_dir, target, numzeros):\n",
    "    os.chdir(home_dir)\n",
    "    paths = os.listdir(home_dir)\n",
    "    for simulation_file in paths:\n",
    "        if simulation_file.endswith('.png'):\n",
    "            simulation = simulation_file.split('_')\n",
    "            print(simulation[target])\n",
    "            if int(simulation[target]) < 100:\n",
    "                new_name = f'{simulation[0:target]}_{simulation[target].zfill(numzeros)}_{simulation[target:-1]}'\n",
    "                # if len(simulation) > 3:\n",
    "                #     new_name = f'{simulation[0]}_{simulation[1].zfill(3)}_{simulation[2]}_{simulation[3]}'\n",
    "                # else:\n",
    "                #     new_name = f'{simulation[0]}_{simulation[1].zfill(3)}_{simulation[2]}'\n",
    "                os.rename(simulation_file, new_name)\n",
    "\n",
    "\n",
    "def split_subfolders(home_dir, matrix_num):\n",
    "    os.chdir(home_dir)\n",
    "    paths = os.listdir(home_dir)\n",
    "    paths = sorted(paths)\n",
    "    for simulation in paths:\n",
    "        if simulation.endswith('.png'):\n",
    "            tags = simulation.split('_')\n",
    "            if int(tags[1]) % 6 == matrix_num:\n",
    "                new_name = f'{matrix_num}/{simulation}'\n",
    "                os.rename(simulation,new_name)\n",
    "\n",
    "def make_matrix_2(home_dir, input_file, matrix_name, numrows):\n",
    "    os.chdir(home_dir)\n",
    "    paths = os.listdir(home_dir)\n",
    "    paths = sorted(paths)\n",
    "    h_counter = 0\n",
    "    v_counter = 0\n",
    "    img = []\n",
    "    matrix = []\n",
    "    with open(input_file, 'r') as contents:\n",
    "        for line in contents:\n",
    "            image_name = line[:-1]\n",
    "            print(image_name)\n",
    "            temp = cv2.imread(image_name)\n",
    "            if h_counter == 0:\n",
    "                img = temp\n",
    "            else:\n",
    "                img = cv2.hconcat([img, temp])\n",
    "            h_counter +=1\n",
    "            if h_counter > numrows-1:\n",
    "                h_counter = 0\n",
    "                if v_counter > 0:\n",
    "                    matrix = cv2.vconcat([matrix, img])\n",
    "                else:\n",
    "                    matrix = img\n",
    "                v_counter+=1\n",
    "            os.chdir(home_dir)\n",
    "    contents.close()\n",
    "    cv2.imwrite(f'{matrix_name}_matrix.png', matrix)"
   ]
  },
  {
   "cell_type": "code",
   "execution_count": null,
   "metadata": {},
   "outputs": [],
   "source": [
    "directory = '/Users/andrew/PycharmProjects/pace_outputs/0913_dox+aba+_final/720_cropped_images/replicate1'\n",
    "start(directory, 1)\n",
    "directory = '/Users/andrew/PycharmProjects/pace_outputs/0913_dox+aba+_final/720_cropped_images/replicate2'\n",
    "start(directory, 2)\n",
    "directory = '/Users/andrew/PycharmProjects/pace_outputs/0913_dox+aba+_final/720_cropped_images/replicate3'\n",
    "start(directory, 3)\n",
    "# for i in range(6):\n",
    "#     start(directory, i)"
   ]
  },
  {
   "cell_type": "code",
   "execution_count": null,
   "metadata": {},
   "outputs": [],
   "source": [
    "directory = '//Users/andrew/PycharmProjects/CHO_adhesion_model/ry_matrix1/'\n",
    "lil_rename(directory, 2, 2)"
   ]
  },
  {
   "cell_type": "code",
   "execution_count": 6,
   "metadata": {
    "collapsed": false,
    "jupyter": {
     "outputs_hidden": false
    },
    "pycharm": {
     "name": "#%%\n"
    }
   },
   "outputs": [
    {
     "name": "stdout",
     "output_type": "stream",
     "text": [
      "urr10_uyy10_ury1_dox0.5_aba0.4_values_45_image.png\n",
      "urr10_uyy10_ury5_dox0.5_aba0.4_values_45_image.png\n",
      "urr10_uyy10_ury10_dox0.5_aba0.4_values_45_image.png\n",
      "urr10_uyy10_ury15_dox0.5_aba0.4_values_45_image.png\n",
      "urr10_uyy10_ury20_dox0.5_aba0.4_values_45_image.png\n",
      "urr10_uyy10_ury25_dox0.5_aba0.4_values_45_image.png\n",
      "urr10_uyy10_ury30_dox0.5_aba0.4_values_45_image.png\n",
      "urr10_uyy10_ury35_dox0.5_aba0.4_values_45_image.png\n",
      "urr10_uyy10_ury40_dox0.5_aba0.4_values_45_image.png\n",
      "urr10_uyy10_ury45_dox0.5_aba0.4_values_45_image.png\n",
      "urr10_uyy10_ury50_dox0.5_aba0.4_values_45_image.png\n",
      "urr20_uyy20_ury1_dox0.5_aba0.4_values_45_image.png\n",
      "urr20_uyy20_ury5_dox0.5_aba0.4_values_45_image.png\n",
      "urr20_uyy20_ury10_dox0.5_aba0.4_values_45_image.png\n",
      "urr20_uyy20_ury15_dox0.5_aba0.4_values_45_image.png\n",
      "urr20_uyy20_ury20_dox0.5_aba0.4_values_45_image.png\n",
      "urr20_uyy20_ury25_dox0.5_aba0.4_values_45_image.png\n",
      "urr20_uyy20_ury30_dox0.5_aba0.4_values_45_image.png\n",
      "urr20_uyy20_ury35_dox0.5_aba0.4_values_45_image.png\n",
      "urr20_uyy20_ury40_dox0.5_aba0.4_values_45_image.png\n",
      "urr20_uyy20_ury45_dox0.5_aba0.4_values_45_image.png\n",
      "urr20_uyy20_ury50_dox0.5_aba0.4_values_45_image.png\n",
      "urr30_uyy30_ury1_dox0.5_aba0.4_values_45_image.png\n",
      "urr30_uyy30_ury5_dox0.5_aba0.4_values_45_image.png\n",
      "urr30_uyy30_ury10_dox0.5_aba0.4_values_45_image.png\n",
      "urr30_uyy30_ury15_dox0.5_aba0.4_values_45_image.png\n",
      "urr30_uyy30_ury20_dox0.5_aba0.4_values_45_image.png\n",
      "urr30_uyy30_ury25_dox0.5_aba0.4_values_45_image.png\n",
      "urr30_uyy30_ury30_dox0.5_aba0.4_values_45_image.png\n",
      "urr30_uyy30_ury35_dox0.5_aba0.4_values_45_image.png\n",
      "urr30_uyy30_ury40_dox0.5_aba0.4_values_45_image.png\n",
      "urr30_uyy30_ury45_dox0.5_aba0.4_values_45_image.png\n",
      "urr30_uyy30_ury50_dox0.5_aba0.4_values_45_image.png\n",
      "urr40_uyy40_ury1_dox0.5_aba0.4_values_45_image.png\n",
      "urr40_uyy40_ury5_dox0.5_aba0.4_values_45_image.png\n",
      "urr40_uyy40_ury10_dox0.5_aba0.4_values_45_image.png\n",
      "urr40_uyy40_ury15_dox0.5_aba0.4_values_45_image.png\n",
      "urr40_uyy40_ury20_dox0.5_aba0.4_values_45_image.png\n",
      "urr40_uyy40_ury25_dox0.5_aba0.4_values_45_image.png\n",
      "urr40_uyy40_ury30_dox0.5_aba0.4_values_45_image.png\n",
      "urr40_uyy40_ury35_dox0.5_aba0.4_values_45_image.png\n",
      "urr40_uyy40_ury40_dox0.5_aba0.4_values_45_image.png\n",
      "urr40_uyy40_ury45_dox0.5_aba0.4_values_45_image.png\n",
      "urr40_uyy40_ury50_dox0.5_aba0.4_values_45_image.png\n",
      "urr50_uyy50_ury1_dox0.5_aba0.4_values_45_image.png\n",
      "urr50_uyy50_ury5_dox0.5_aba0.4_values_45_image.png\n",
      "urr50_uyy50_ury10_dox0.5_aba0.4_values_45_image.png\n",
      "urr50_uyy50_ury15_dox0.5_aba0.4_values_45_image.png\n",
      "urr50_uyy50_ury20_dox0.5_aba0.4_values_45_image.png\n",
      "urr50_uyy50_ury25_dox0.5_aba0.4_values_45_image.png\n",
      "urr50_uyy50_ury30_dox0.5_aba0.4_values_45_image.png\n",
      "urr50_uyy50_ury35_dox0.5_aba0.4_values_45_image.png\n",
      "urr50_uyy50_ury40_dox0.5_aba0.4_values_45_image.png\n",
      "urr50_uyy50_ury45_dox0.5_aba0.4_values_45_image.png\n",
      "urr50_uyy50_ury50_dox0.5_aba0.4_values_45_image.png\n"
     ]
    }
   ],
   "source": [
    "directory = '/Users/andrew/PycharmProjects/CHO_adhesion_model/ryvsrryy_final/'\n",
    "input_filename = 'output.txt'\n",
    "matrix_name = 'ryvsrryy'\n",
    "numrows = 11\n",
    "make_matrix_2(directory, input_filename, matrix_name, numrows)"
   ]
  },
  {
   "cell_type": "code",
   "execution_count": 2,
   "metadata": {},
   "outputs": [
    {
     "data": {
      "text/plain": "<Figure size 432x288 with 1 Axes>",
      "image/png": "[encoded data removed]"
     },
     "metadata": {
      "needs_background": "light"
     },
     "output_type": "display_data"
    }
   ],
   "source": [
    "import os\n",
    "import cv2\n",
    "import matplotlib.pyplot as plt\n",
    "\n",
    "os.chdir('/Users/andrew/PycharmProjects/ST_CHO_adhesion_model/videos')\n",
    "video = cv2.VideoCapture('100yy_40rr.mp4')\n",
    "\n",
    "while(video.isOpened()):\n",
    "    ret, frame = video.read()\n",
    "    if ret:\n",
    "        plt.imshow(frame)\n",
    "        \n",
    "        if cv2.waitKey(25) & 0xFF == ord('q'):\n",
    "            break\n",
    "    else:\n",
    "        break\n",
    "video.release()\n",
    "cv2.destroyAllWindows()"
   ]
  },
  {
   "cell_type": "code",
   "execution_count": 3,
   "outputs": [
    {
     "name": "stdout",
     "output_type": "stream",
     "text": [
      "ugc30_ucc5_ugg40_gel100_cell900_image_240.png\n",
      "ugc30_ucc5_ugg40_gel200_cell800_image_240.png\n",
      "ugc30_ucc5_ugg40_gel300_cell700_image_240.png\n",
      "ugc30_ucc5_ugg40_gel400_cell600_image_240.png\n",
      "ugc30_ucc5_ugg40_gel500_cell500_image_240.png\n",
      "ugc30_ucc5_ugg40_gel600_cell400_image_240.png\n",
      "ugc30_ucc5_ugg40_gel700_cell300_image_240.png\n",
      "ugc30_ucc5_ugg40_gel800_cell200_image_240.png\n",
      "ugc30_ucc5_ugg40_gel900_cell100_image_240.png\n"
     ]
    }
   ],
   "source": [
    "directory = '/Users/andrew/PycharmProjects/cell_polarity_organoid/outputs/repulsion/temp'\n",
    "input_filename = 'output.txt'\n",
    "matrix_name = 'repulsion'\n",
    "numrows = 9\n",
    "make_matrix_2(directory, input_filename, matrix_name, numrows)"
   ],
   "metadata": {
    "collapsed": false,
    "pycharm": {
     "name": "#%%\n"
    }
   }
  }
 ],
 "metadata": {
  "kernelspec": {
   "display_name": "Python 3",
   "language": "python",
   "name": "python3"
  },
  "language_info": {
   "codemirror_mode": {
    "name": "ipython",
    "version": 3
   },
   "file_extension": ".py",
   "mimetype": "text/x-python",
   "name": "python",
   "nbconvert_exporter": "python",
   "pygments_lexer": "ipython3",
   "version": "3.8.5"
  }
 },
 "nbformat": 4,
 "nbformat_minor": 4
}